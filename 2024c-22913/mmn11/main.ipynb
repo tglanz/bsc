{
 "cells": [
  {
   "cell_type": "code",
   "execution_count": 76,
   "metadata": {},
   "outputs": [],
   "source": [
    "import cv2\n",
    "import numpy as np\n",
    "\n",
    "import scipy.signal\n",
    "from matplotlib import pyplot as plt"
   ]
  },
  {
   "cell_type": "code",
   "execution_count": 40,
   "metadata": {},
   "outputs": [],
   "source": [
    "size = 500\n",
    "hsize = size // 2\n",
    "\n",
    "image = np.zeros((size, size, 3))\n",
    "image[0:hsize, 0:hsize] = (0, 1.0, 0)\n",
    "image[0:hsize, hsize:] = (1.0, 0, 0)\n",
    "image[hsize:, 0:hsize] = (0, 0, 1.0)\n",
    "image[hsize:, hsize:] = (0, 1.0, 0)"
   ]
  },
  {
   "cell_type": "code",
   "execution_count": 96,
   "metadata": {},
   "outputs": [
    {
     "data": {
      "image/png": "[encoded data removed]",
      "text/plain": [
       "<Figure size 640x480 with 5 Axes>"
      ]
     },
     "metadata": {},
     "output_type": "display_data"
    }
   ],
   "source": [
    "def rgb_to_hsi(rgb):\n",
    "    r, g, b = rgb\n",
    "\n",
    "    intensity = rgb.sum() / 3\n",
    "    saturation = 1 - 3 * rgb.sum() * min(r, g, b)\n",
    "    \n",
    "    denominator = np.sqrt((r - g) ** 2 + (r - b) * (g - b))\n",
    "    if denominator == 0:\n",
    "        hue = 0\n",
    "    else:\n",
    "        numerator = 0.5 * ((r - g) + (r - b))\n",
    "        theta = np.arccos(numerator / denominator)\n",
    "\n",
    "        pi2 = 2 * np.pi\n",
    "        hue = theta if b <= g else pi2 - theta\n",
    "        hue /= pi2\n",
    "\n",
    "    return (hue, saturation, intensity)\n",
    "\n",
    "hsi_image = np.zeros((size, size, 3))\n",
    "\n",
    "for i in range(size):\n",
    "    for j in range(size):\n",
    "        hsi_image[i, j, :] = rgb_to_hsi(image[i, j, :])\n",
    "\n",
    "plt.subplots(1, 5)\n",
    "plt.tight_layout()\n",
    "\n",
    "plt.subplot(1, 5, 1)\n",
    "plt.title(\"RGB\")\n",
    "plt.tick_params(axis=\"both\", which=\"both\", bottom=False, labelbottom=False, left=False, labelleft=False)\n",
    "plt.imshow(image)\n",
    "\n",
    "plt.subplot(1, 5, 2)\n",
    "plt.title(\"HSI\")\n",
    "plt.tick_params(axis=\"both\", which=\"both\", bottom=False, labelbottom=False, left=False, labelleft=False)\n",
    "plt.imshow(hsi_image)\n",
    "\n",
    "hue = hsi_image[:, :, 0]\n",
    "plt.subplot(1, 5, 3)\n",
    "plt.title(\"Hue\")\n",
    "plt.tick_params(axis=\"both\", which=\"both\", bottom=False, labelbottom=False, left=False, labelleft=False)\n",
    "plt.imshow(hue, cmap=\"gray\")\n",
    "\n",
    "saturation = hsi_image[:, :, 1]\n",
    "plt.subplot(1, 5, 4)\n",
    "plt.title(\"Saturation\")\n",
    "plt.tick_params(axis=\"both\", which=\"both\", bottom=False, labelbottom=False, left=False, labelleft=False)\n",
    "plt.imshow(saturation, cmap=\"gray\")\n",
    "\n",
    "intensity = hsi_image[:, :, 2]\n",
    "plt.subplot(1, 5, 5)\n",
    "plt.title(\"Intensity\")\n",
    "plt.tick_params(axis=\"both\", which=\"both\", bottom=False, labelbottom=False, left=False, labelleft=False)\n",
    "plt.imshow(intensity, cmap=\"gray\")\n",
    "\n",
    "for i, title in enumerate([\"Hue\", \"Saturation\", \"Intensity\"]):\n",
    "    plt.subplot(1, 5, i + 3)\n",
    "    plt.title(title)\n",
    "    plt.tick_params(axis=\"both\", which=\"both\", bottom=False, labelbottom=False, left=False, labelleft=False)\n",
    "    plt.imshow(hsi_image[:, :, i])\n",
    "\n",
    "plt.savefig(\"q1-hsi.png\", bbox_inches=\"tight\")"
   ]
  },
  {
   "cell_type": "code",
   "execution_count": 91,
   "metadata": {},
   "outputs": [
    {
     "data": {
      "image/png": "[encoded data removed]",
      "text/plain": [
       "<Figure size 640x480 with 2 Axes>"
      ]
     },
     "metadata": {},
     "output_type": "display_data"
    }
   ],
   "source": [
    "kernel_size = size // 4\n",
    "kernel = np.ones((kernel_size, kernel_size), dtype=np.float64) / kernel_size / kernel_size\n",
    "\n",
    "filtered_hue = cv2.blur(hsi_image[:, :, 0], (125, 125))\n",
    "filtered_saturation = cv2.blur(hsi_image[:, :, 1], (125, 125))\n",
    "\n",
    "plt.subplots(1, 2)\n",
    "plt.tight_layout()\n",
    "\n",
    "plt.subplot(1, 2, 1)\n",
    "plt.title(\"Averaged Saturation\")\n",
    "plt.tick_params(axis=\"both\", which=\"both\", bottom=False, labelbottom=False, left=False, labelleft=False)\n",
    "plt.imshow(filtered_saturation, cmap=\"gray\")\n",
    "\n",
    "plt.subplot(1, 2, 2)\n",
    "plt.title(\"Averaged Hue\")\n",
    "plt.tick_params(axis=\"both\", which=\"both\", bottom=False, labelbottom=False, left=False, labelleft=False)\n",
    "plt.imshow(filtered_hue, cmap=\"gray\")\n",
    "\n",
    "plt.savefig(\"q1-averaged.png\", bbox_inches=\"tight\")"
   ]
  }
 ],
 "metadata": {
  "kernelspec": {
   "display_name": ".venv",
   "language": "python",
   "name": "python3"
  },
  "language_info": {
   "codemirror_mode": {
    "name": "ipython",
    "version": 3
   },
   "file_extension": ".py",
   "mimetype": "text/x-python",
   "name": "python",
   "nbconvert_exporter": "python",
   "pygments_lexer": "ipython3",
   "version": "3.12.3"
  }
 },
 "nbformat": 4,
 "nbformat_minor": 2
}
