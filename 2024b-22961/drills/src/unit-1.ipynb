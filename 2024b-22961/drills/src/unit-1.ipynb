{
 "cells": [
  {
   "cell_type": "code",
   "execution_count": 41,
   "id": "2d906e32-f584-482e-8a0c-68392ed03016",
   "metadata": {},
   "outputs": [],
   "source": [
    "import torch"
   ]
  },
  {
   "cell_type": "markdown",
   "id": "9a44ae9f-e022-433f-bcc1-77a8e011896a",
   "metadata": {},
   "source": [
    "## Initialize a tensor from an hetegrogenous python list"
   ]
  },
  {
   "cell_type": "code",
   "execution_count": null,
   "id": "f0b1d58e-90f6-4b38-9839-610416fdb466",
   "metadata": {},
   "outputs": [
    {
     "name": "stdout",
     "output_type": "stream",
     "text": [
      "1.\n",
      "tensor([[1.0000e+00, 1.0000e+00, 1.0000e+00],\n",
      "        [4.0000e+00, 4.0000e-03, 5.0000e+00]])\n",
      "torch.Size([2, 3])\n",
      "torch.float32\n"
     ]
    }
   ],
   "source": [
    "rom a list of multiple types\n",
    "\n",
    "tensor = torch.tensor([\n",
    "    [1, 1.0, True], \n",
    "    [4, 0.004, 5]\n",
    "])\n",
    "\n",
    "print(\"1.\", tensor, tensor.shape, tensor.dtype, sep=\"\\n\")"
   ]
  },
  {
   "cell_type": "code",
   "execution_count": 13,
   "id": "9de69d63-c9b8-47da-957a-6f144a0ec37d",
   "metadata": {},
   "outputs": [
    {
     "name": "stdout",
     "output_type": "stream",
     "text": [
      "2.\n",
      "tensor([True, True])\n",
      "torch.Size([2])\n",
      "torch.bool\n"
     ]
    }
   ],
   "source": [
    "tensor = torch.tensor([\n",
    "    True, True\n",
    "])\n",
    "\n",
    "print(\"2.\", tensor, tensor.shape, tensor.dtype, sep=\"\\n\")"
   ]
  },
  {
   "cell_type": "markdown",
   "id": "1fa4d08e-7fbd-43e2-9b46-c60a85475147",
   "metadata": {},
   "source": [
    "The tensor above is of type `bool` since it contains only booleans."
   ]
  },
  {
   "cell_type": "code",
   "execution_count": 15,
   "id": "3654cf57-2f3d-435f-806d-b10010520b5a",
   "metadata": {},
   "outputs": [
    {
     "name": "stdout",
     "output_type": "stream",
     "text": [
      "3.\n",
      "tensor([1, 2, 3, 4])\n",
      "torch.Size([4])\n",
      "torch.int64\n"
     ]
    }
   ],
   "source": [
    "tensor = torch.tensor([\n",
    "    1, 2, 3, 4\n",
    "])\n",
    "\n",
    "print(\"3.\", tensor, tensor.shape, tensor.dtype, sep=\"\\n\")"
   ]
  },
  {
   "cell_type": "markdown",
   "id": "17dfe2cd-77c8-4dd6-a87c-5fac2d64ee7d",
   "metadata": {},
   "source": [
    "## Random tensor"
   ]
  },
  {
   "cell_type": "code",
   "execution_count": 17,
   "id": "702e4dde-381e-47b3-aa2b-129398d72ac8",
   "metadata": {},
   "outputs": [
    {
     "name": "stdout",
     "output_type": "stream",
     "text": [
      "4.\n",
      "tensor([[0.9184, 0.4106],\n",
      "        [0.9248, 0.0942]])\n",
      "torch.Size([2, 2])\n",
      "torch.float32\n"
     ]
    }
   ],
   "source": [
    "tensor = torch.rand([2, 2])\n",
    "print(\"4.\", tensor, tensor.shape, tensor.dtype, sep=\"\\n\")"
   ]
  },
  {
   "cell_type": "markdown",
   "id": "78ce3820-e47b-487f-aac9-219a9685890e",
   "metadata": {},
   "source": [
    "> Note: The default random tensor datatype is f32"
   ]
  },
  {
   "cell_type": "markdown",
   "id": "90e7c8e6-2278-4755-a8fb-50cfd09fa75a",
   "metadata": {},
   "source": [
    "### We can specify a type such a `float64`, but note that the `rand` function can operate only on float values!"
   ]
  },
  {
   "cell_type": "code",
   "execution_count": 28,
   "id": "08350aa4-f30e-49c2-954e-4662f6cc6d40",
   "metadata": {},
   "outputs": [
    {
     "name": "stdout",
     "output_type": "stream",
     "text": [
      "5.\n",
      "tensor([[[0.7679, 0.2599],\n",
      "         [0.2527, 0.5134]],\n",
      "\n",
      "        [[0.7385, 0.9283],\n",
      "         [0.7638, 0.1021]]], dtype=torch.float64)\n",
      "torch.Size([2, 2, 2])\n",
      "torch.float64\n"
     ]
    }
   ],
   "source": [
    "tensor = torch.rand(2, 2, 2, dtype=torch.float64)\n",
    "print(\"5.\", tensor, tensor.shape, tensor.dtype, sep=\"\\n\")"
   ]
  },
  {
   "cell_type": "code",
   "execution_count": 43,
   "id": "556b0680-53d9-448a-a22c-b33f6a84797e",
   "metadata": {},
   "outputs": [
    {
     "name": "stdout",
     "output_type": "stream",
     "text": [
      "6.\n",
      "tensor([[5, 6],\n",
      "        [3, 9]])\n",
      "torch.Size([2, 2])\n",
      "torch.int64\n"
     ]
    }
   ],
   "source": [
    "# Uniformly random Integers \n",
    "tensor = torch.randint(0, 10, [2, 2])\n",
    "print(\"6.\", tensor, tensor.shape, tensor.dtype, sep=\"\\n\")"
   ]
  },
  {
   "cell_type": "code",
   "execution_count": 35,
   "id": "3d4f3905-2ad3-497a-8209-56958cfac631",
   "metadata": {},
   "outputs": [
    {
     "name": "stdout",
     "output_type": "stream",
     "text": [
      "7.\n",
      "tensor([[[ 0.3268,  0.7446],\n",
      "         [-0.6728, -0.4033]],\n",
      "\n",
      "        [[-0.8787, -0.5064],\n",
      "         [ 0.4564, -0.5103]]])\n",
      "torch.Size([2, 2, 2])\n",
      "torch.float32\n"
     ]
    }
   ],
   "source": [
    "# Normal Distrobution\n",
    "tensor = torch.randn(2, 2, 2)\n",
    "print(\"7.\", tensor, tensor.shape, tensor.dtype, sep=\"\\n\")"
   ]
  },
  {
   "cell_type": "markdown",
   "id": "4450f23c-3793-4af9-ad18-51d69d9f2ce7",
   "metadata": {},
   "source": [
    "## Part 2, Linalg"
   ]
  },
  {
   "cell_type": "code",
   "execution_count": 57,
   "id": "d67e7e62-d88b-49ff-925d-617c7d796ff6",
   "metadata": {},
   "outputs": [
    {
     "name": "stdout",
     "output_type": "stream",
     "text": [
      "tensor([[[ 0.6158, -2.0709],\n",
      "         [ 0.8364, -2.1070]],\n",
      "\n",
      "        [[ 0.4891,  1.0043],\n",
      "         [-0.9748,  0.1507]],\n",
      "\n",
      "        [[ 0.3325,  0.9100],\n",
      "         [ 0.1926, -0.0610]],\n",
      "\n",
      "        [[ 0.5734, -0.8583],\n",
      "         [-0.6984, -1.5655]],\n",
      "\n",
      "        [[-0.1325, -0.9578],\n",
      "         [ 1.2367,  0.4571]]])\n",
      "torch.Size([5, 2, 2])\n",
      "torch.float32\n",
      "\n",
      "Eigenvalues\n",
      "tensor([[-0.3974+0.0000j, -1.0938+0.0000j],\n",
      "        [ 0.3199+0.9748j,  0.3199-0.9748j],\n",
      "        [ 0.5983+0.0000j, -0.3268+0.0000j],\n",
      "        [ 0.8242+0.0000j, -1.8164+0.0000j],\n",
      "        [ 0.1623+1.0477j,  0.1623-1.0477j]])\n",
      "\n",
      "Frobenius Norm\n",
      "tensor([3.1316, 1.4902, 0.9896, 2.0010, 1.6350])\n",
      "\n",
      "Euclidean Norm\n",
      "tensor(4.4367)\n",
      "tensor(4.4367)\n",
      "\n"
     ]
    }
   ],
   "source": [
    "# Create multiple N 2x2 matrices\n",
    "N = 5\n",
    "tensor = torch.randn([N, 2, 2])\n",
    "print(tensor, tensor.shape, tensor.dtype, \"\", sep=\"\\n\")\n",
    "\n",
    "# Compute the eigenvalues of all matrices.\n",
    "# Notice that the `eigvals` function takes a tensor whose first dimension is the batch, exactly what we have!\n",
    "eigvals = torch.linalg.eigvals(tensor)\n",
    "print(\"Eigenvalues\", eigvals, \"\", sep=\"\\n\")\n",
    "\n",
    "# The frobenius norm is the $\\sqrt{\\sum{|a_ij|}}$\n",
    "frobenius = torch.linalg.matrix_norm(tensor, ord=\"fro\")\n",
    "print(\"Frobenius Norm\", frobenius, \"\", sep=\"\\n\")\n",
    "\n",
    "# The euclideian norm is the $\\sqrt{\\sum{|a_ij|^2}}$\n",
    "euclidean = torch.sqrt((tensor * tensor).sum())\n",
    "euclidean2 = tensor.norm()\n",
    "print(\"Euclidean Norm\", euclidean, euclidean2, \"\", sep=\"\\n\")"
   ]
  }
 ],
 "metadata": {
  "kernelspec": {
   "display_name": "Python 3 (ipykernel)",
   "language": "python",
   "name": "python3"
  },
  "language_info": {
   "codemirror_mode": {
    "name": "ipython",
    "version": 3
   },
   "file_extension": ".py",
   "mimetype": "text/x-python",
   "name": "python",
   "nbconvert_exporter": "python",
   "pygments_lexer": "ipython3",
   "version": "3.11.7"
  }
 },
 "nbformat": 4,
 "nbformat_minor": 5
}
